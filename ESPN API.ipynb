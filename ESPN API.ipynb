{
 "cells": [
  {
   "cell_type": "code",
   "execution_count": 34,
   "metadata": {
    "collapsed": false
   },
   "outputs": [
    {
     "name": "stdout",
     "output_type": "stream",
     "text": [
      "[Team Team GoInsanelyFast,\n",
      " Team Philadelphia Shenanihads,\n",
      " Team The Fluffy Bunnies,\n",
      " Team Dreadmetal Pumaskulls,\n",
      " Team Randy Savage Macho Men,\n",
      " Team Nellis A.F.B. Boomers,\n",
      " Team Shelbyville Shittysauruses ,\n",
      " Team Giant Octopus,\n",
      " Team Robot Unicorn,\n",
      " Team Columbia Songbirds,\n",
      " Team Butthole Surfers,\n",
      " Team Springfield Atoms]\n"
     ]
    }
   ],
   "source": [
    "from espnff import League\n",
    "import pprint\n",
    "\n",
    "league_id = '45342'\n",
    "year = '2016'\n",
    "\n",
    "league = League(league_id, year)\n",
    "\n",
    "pprint.pprint(league.teams)"
   ]
  },
  {
   "cell_type": "code",
   "execution_count": 8,
   "metadata": {
    "collapsed": false
   },
   "outputs": [
    {
     "name": "stdout",
     "output_type": "stream",
     "text": [
      "[('26.80', Team Nellis A.F.B. Boomers),\n",
      " ('25.00', Team Philadelphia Shenanihads),\n",
      " ('23.30', Team Springfield Atoms),\n",
      " ('22.80', Team The Fluffy Bunnies),\n",
      " ('22.60', Team Team GoInsanelyFast),\n",
      " ('21.60', Team Dreadmetal Pumaskulls),\n",
      " ('21.10', Team Columbia Songbirds),\n",
      " ('19.90', Team Randy Savage Macho Men),\n",
      " ('19.80', Team Robot Unicorn),\n",
      " ('19.25', Team Shelbyville Shittysauruses ),\n",
      " ('16.75', Team Butthole Surfers),\n",
      " ('16.65', Team Giant Octopus)]\n"
     ]
    }
   ],
   "source": [
    "week = 5\n",
    "pprint.pprint(league.power_rankings(week=week))"
   ]
  }
 ],
 "metadata": {
  "anaconda-cloud": {},
  "kernelspec": {
   "display_name": "Python [default]",
   "language": "python",
   "name": "python3"
  },
  "language_info": {
   "codemirror_mode": {
    "name": "ipython",
    "version": 3
   },
   "file_extension": ".py",
   "mimetype": "text/x-python",
   "name": "python",
   "nbconvert_exporter": "python",
   "pygments_lexer": "ipython3",
   "version": "3.5.2"
  }
 },
 "nbformat": 4,
 "nbformat_minor": 1
}
